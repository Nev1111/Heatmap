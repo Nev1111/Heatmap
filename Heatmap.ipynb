{
 "cells": [
  {
   "cell_type": "code",
   "execution_count": 1,
   "metadata": {},
   "outputs": [
    {
     "data": {
      "text/plain": [
       "<matplotlib.axes._subplots.AxesSubplot at 0xb702eb8>"
      ]
     },
     "execution_count": 1,
     "metadata": {},
     "output_type": "execute_result"
    }
   ],
   "source": [
    "import numpy as np\n",
    "import pandas as pd\n",
    "from pandas import DataFrame, Series\n",
    "import seaborn as sns\n",
    "import matplotlib.pyplot as plt\n",
    "from matplotlib.colors import ListedColormap\n",
    "\n",
    "processes=pd.read_excel('C:/Users/nplatchk/Desktop/Risk map/Processes.xlsx')\n",
    "processes.sort_values(by='Rank',inplace=True)\n",
    "#processes_sq=processes['Process_short'].values.reshape(13,13)\n",
    "processes['Year_reviewed']=processes['Year_reviewed'].astype(str)\n",
    "rank_sq=processes['Rank'].values.reshape(13,13)\n",
    "\n",
    "processes['Combined']=processes[['Units','Process_short','Year_reviewed']].apply(lambda x: '\\n'.join(x), axis=1)\n",
    "processes_sq=processes['Combined'].values.reshape(13,13)\n",
    "\n",
    "\n",
    "fig,ax=plt.subplots(figsize=(20,20))\n",
    "\n",
    "sns.heatmap(rank_sq,annot=processes_sq, annot_kws={'size':7},fmt='',linewidths=.5,cmap='YlGn',cbar=True,ax=ax)"
   ]
  },
  {
   "cell_type": "code",
   "execution_count": null,
   "metadata": {},
   "outputs": [],
   "source": []
  }
 ],
 "metadata": {
  "kernelspec": {
   "display_name": "Python 3",
   "language": "python",
   "name": "python3"
  },
  "language_info": {
   "codemirror_mode": {
    "name": "ipython",
    "version": 3
   },
   "file_extension": ".py",
   "mimetype": "text/x-python",
   "name": "python",
   "nbconvert_exporter": "python",
   "pygments_lexer": "ipython3",
   "version": "3.6.4"
  }
 },
 "nbformat": 4,
 "nbformat_minor": 2
}
